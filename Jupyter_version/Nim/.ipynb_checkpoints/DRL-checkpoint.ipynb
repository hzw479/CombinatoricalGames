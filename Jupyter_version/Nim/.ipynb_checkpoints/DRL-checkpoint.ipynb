{
 "cells": [
  {
   "cell_type": "markdown",
   "id": "9cd59820",
   "metadata": {},
   "source": [
    "This is for solving Nim"
   ]
  },
  {
   "cell_type": "code",
   "execution_count": 334,
   "id": "b0841f97",
   "metadata": {},
   "outputs": [],
   "source": [
    "import numpy as np\n",
    "import random\n",
    "import torch\n",
    "import torch.nn as nn\n",
    "import torch.optim as optim\n",
    "from collections import namedtuple, deque\n",
    "import math\n",
    "from itertools import count\n",
    "\n",
    "device = torch.device(\"cuda\" if torch.cuda.is_available() else \"cpu\")"
   ]
  },
  {
   "cell_type": "code",
   "execution_count": 469,
   "id": "a20b599f",
   "metadata": {
    "code_folding": [
     1
    ]
   },
   "outputs": [],
   "source": [
    "\n",
    "class NimGame:\n",
    "    def __init__(self):\n",
    "        self.board=[1,3,5,7]\n",
    "        self.number_of_piles=np.count_nonzero(self.board)\n",
    "        self.player='dummy'\n",
    "        self.game_over=False\n",
    "        self.winner=0\n",
    "    def change_player(self):\n",
    "        if self.player=='agent':\n",
    "            self.player='dummy'\n",
    "        else:\n",
    "            self.player='agent'\n",
    "    \n",
    "    def decode_action(self, integer):\n",
    "        action_dict={0:[1,1], 1:[1,2], 2:[2,2], 3:[3,2], 4:[1,3], 5:[2,3], 6:[3,3], 7:[4,3], 8:[5,3], 9:[1,4],\n",
    "                    10:[2,4], 11:[3,4], 12:[4,4], 13:[5,4], 14:[6,4], 15:[7,4]}\n",
    "        return action_dict[integer]\n",
    "\n",
    "    def get_reward(self):\n",
    "        if any(n < 0 for n in self.board):\n",
    "            self.game_over=True\n",
    "            self.winner='dummy'\n",
    "            return -100\n",
    "        if self.player =='agent':\n",
    "            if sum(self.board)==1:\n",
    "                return 1 \n",
    "        if self.is_game_over():\n",
    "            if self.player == 'agent': #if player 1 takes last stick\n",
    "                return -1\n",
    "            else:\n",
    "                return 1 # in player 2 takes last stick\n",
    "        else:\n",
    "            return 0 #if game is not over\n",
    "    def is_game_over(self):\n",
    "        return self.number_of_piles==0\n",
    "    \n",
    "    def reset(self):\n",
    "        self.board=[1,3,5,7]#start_board\n",
    "        self.number_of_piles=np.count_nonzero(self.board)\n",
    "        self.player='dummy'\n",
    "        self.game_over=False\n",
    "        self.winner=0\n",
    "        return self.board\n",
    "        \n",
    "    def play(self, action):\n",
    "        amount_to_remove, pile_number=self.decode_action(action)[0], self.decode_action(action)[1]-1\n",
    "        self.board[pile_number]-=amount_to_remove\n",
    "        if self.board[pile_number]==0:\n",
    "            self.number_of_piles-=1\n",
    "        if self.is_game_over():\n",
    "            self.game_over=True\n",
    "            self.winner='dummy'\n",
    "        return self.board, self.get_reward(), self.game_over\n",
    "    \n",
    "    def action_size(self):\n",
    "        return sum(self.board)\n",
    "    \n",
    "    def random_play(self):\n",
    "        action=[]\n",
    "        pile_number=np.random.choice(np.nonzero(self.board)[0])\n",
    "        amount_to_remove=np.random.randint(1,self.board[pile_number]+1)\n",
    "        action.append(amount_to_remove)\n",
    "        action.append(pile_number+1)\n",
    "        value_list=[k for k,v in action_dict.items() if v == action]\n",
    "        self.board[pile_number]-=amount_to_remove\n",
    "        if self.board[pile_number]==0:\n",
    "            self.number_of_piles-=1\n",
    "        if self.is_game_over():\n",
    "            self.game_over=True\n",
    "            if self.player=='dummy':\n",
    "                self.winner='agent'\n",
    "            else:\n",
    "                self.winner='dummy'\n",
    "        return self.board, self.get_reward(), self.game_over, value_list[0]\n",
    "        \n",
    "            \n",
    "        "
   ]
  },
  {
   "cell_type": "code",
   "execution_count": 271,
   "id": "28635e45",
   "metadata": {},
   "outputs": [],
   "source": [
    "action_dict={0:[1,1], 1:[1,2], 2:[2,2], 3:[3,2], 4:[1,3], 5:[2,3], 6:[3,3], 7:[4,3], 8:[5,3], 9:[1,4],\n",
    "                    10:[2,4], 11:[3,4], 12:[4,4], 13:[5,4], 14:[6,4], 15:[7,4]}"
   ]
  },
  {
   "cell_type": "code",
   "execution_count": 474,
   "id": "91718530",
   "metadata": {
    "code_folding": []
   },
   "outputs": [],
   "source": [
    "class QNetwork(nn.Module):\n",
    "    def __init__(self, state_size, action_size):\n",
    "        super(QNetwork, self).__init__()\n",
    "        self.fc1 = nn.Linear(state_size, 64)\n",
    "        self.fc2 = nn.Linear(64, 64)\n",
    "        print('halløj')\n",
    "        self.fc3 = nn.Linear(64, action_size)\n",
    "\n",
    "    def forward(self, state):\n",
    "        x = torch.relu(self.fc1(state))\n",
    "        x = torch.relu(self.fc2(x))\n",
    "        q_values = self.fc3(x)\n",
    "        return q_values\n",
    "Transition = namedtuple('Transition',\n",
    "                        ('state', 'action', 'next_state', 'reward'))\n",
    "\n",
    "\n",
    "class ReplayMemory(object):\n",
    "\n",
    "    def __init__(self, capacity):\n",
    "        self.memory = deque([], maxlen=capacity)\n",
    "\n",
    "    def push(self, *args):\n",
    "        \"\"\"Save a transition\"\"\"\n",
    "        self.memory.append(Transition(*args))\n",
    "\n",
    "    def sample(self, batch_size):\n",
    "        return random.sample(self.memory, batch_size)\n",
    "\n",
    "    def __len__(self):\n",
    "        return len(self.memory)"
   ]
  },
  {
   "cell_type": "code",
   "execution_count": 475,
   "id": "176c7806",
   "metadata": {},
   "outputs": [
    {
     "name": "stdout",
     "output_type": "stream",
     "text": [
      "halløj\n"
     ]
    }
   ],
   "source": [
    "env = NimGame()\n",
    "learning_rate=0.02\n",
    "state_size=len(start_board)\n",
    "action_size=env.action_size()\n",
    "q_network = QNetwork(state_size, action_size)\n",
    "optimizer = optim.Adam(q_network.parameters(), lr=learning_rate)\n"
   ]
  },
  {
   "cell_type": "code",
   "execution_count": 476,
   "id": "5dbec506",
   "metadata": {},
   "outputs": [
    {
     "name": "stdout",
     "output_type": "stream",
     "text": [
      "halløj\n",
      "halløj\n"
     ]
    },
    {
     "data": {
      "text/plain": [
       "<All keys matched successfully>"
      ]
     },
     "execution_count": 476,
     "metadata": {},
     "output_type": "execute_result"
    }
   ],
   "source": [
    "policy_net = QNetwork(state_size, action_size).to(device)\n",
    "target_net = QNetwork(state_size, action_size).to(device)\n",
    "target_net.load_state_dict(policy_net.state_dict())"
   ]
  },
  {
   "cell_type": "code",
   "execution_count": 477,
   "id": "977ea172",
   "metadata": {},
   "outputs": [],
   "source": [
    "optimizer = optim.AdamW(policy_net.parameters(), lr=learning_rate, amsgrad=True)\n",
    "memory = ReplayMemory(10000)"
   ]
  },
  {
   "cell_type": "code",
   "execution_count": 478,
   "id": "d8c08ce5",
   "metadata": {},
   "outputs": [],
   "source": [
    "BATCH_SIZE = 128\n",
    "TAU = 0.005\n",
    "GAMMA = 0.99"
   ]
  },
  {
   "cell_type": "code",
   "execution_count": 479,
   "id": "0ca80f20",
   "metadata": {
    "code_folding": []
   },
   "outputs": [],
   "source": [
    "def optimize_model():\n",
    "    if len(memory) < BATCH_SIZE:\n",
    "        return\n",
    "    transitions = memory.sample(BATCH_SIZE)\n",
    "    batch = Transition(*zip(*transitions))\n",
    "    non_final_mask = torch.tensor(tuple(map(lambda s: s is not None,\n",
    "                                          batch.next_state)), device=device, dtype=torch.bool)\n",
    "    non_final_next_states = torch.cat([s for s in batch.next_state\n",
    "                                                if s is not None])\n",
    "    \n",
    "    state_batch = torch.cat(batch.state)\n",
    "    action_batch = batch.action#torch.cat(torch.tensor(batch.action))\n",
    "    action_batch = torch.tensor([action_dict[i] for i in action_batch])\n",
    "    reward_batch = torch.cat(batch.reward)\n",
    "    state_action_values = policy_net(state_batch).gather(1, action_batch)\n",
    "    #print(state_action_values)\n",
    "    next_state_values = torch.zeros(BATCH_SIZE, device=device)\n",
    "    with torch.no_grad():\n",
    "        next_state_values[non_final_mask] = target_net(non_final_next_states).max(1)[0]\n",
    "    # Compute the expected Q values\n",
    "    expected_state_action_values = (next_state_values * GAMMA) + reward_batch\n",
    "\n",
    "    # Compute Huber loss\n",
    "    criterion = nn.SmoothL1Loss()\n",
    "    loss = criterion(state_action_values, expected_state_action_values.unsqueeze(1))\n",
    "\n",
    "    # Optimize the model\n",
    "    optimizer.zero_grad()\n",
    "    loss.backward()\n",
    "    # In-place gradient clipping\n",
    "    torch.nn.utils.clip_grad_value_(policy_net.parameters(), 100)\n",
    "    optimizer.step()"
   ]
  },
  {
   "cell_type": "code",
   "execution_count": 406,
   "id": "d702f983",
   "metadata": {},
   "outputs": [],
   "source": []
  },
  {
   "cell_type": "code",
   "execution_count": 480,
   "id": "4e4422bf",
   "metadata": {
    "code_folding": []
   },
   "outputs": [
    {
     "name": "stdout",
     "output_type": "stream",
     "text": [
      "tensor([[-0.1768, -0.1205, -0.0721,  0.1838, -0.2139, -0.2774, -0.0680,  0.4330,\n",
      "         -0.0687, -0.0193, -0.1529, -0.2489,  0.3254, -0.1805,  0.1778, -0.1082]],\n",
      "       grad_fn=<AddmmBackward0>)\n",
      "tensor([[ 0.1374, -0.1406,  0.1158,  0.1405,  0.1099, -0.1596, -0.1770, -0.0286,\n",
      "          0.1097,  0.2199, -0.2223, -0.2280,  0.1222,  0.0330,  0.0461, -0.0050]],\n",
      "       grad_fn=<AddmmBackward0>)\n",
      "tensor([[ 0.1195, -0.0988,  0.0910,  0.0709,  0.1111, -0.1157, -0.0615, -0.0277,\n",
      "          0.0473,  0.1842, -0.2292, -0.2294,  0.0388, -0.0337,  0.0326,  0.0277]],\n",
      "       grad_fn=<AddmmBackward0>)\n",
      "tensor([[-0.0623, -0.0921,  0.0373,  0.0016,  0.0121, -0.0176, -0.0068, -0.0388,\n",
      "         -0.0432,  0.0508, -0.0151, -0.0603, -0.0242,  0.0220, -0.0038,  0.0010]],\n",
      "       grad_fn=<AddmmBackward0>)\n",
      "tensor([[-0.0428, -0.1114, -0.0491, -0.0386,  0.0445, -0.0126, -0.0165,  0.0346,\n",
      "         -0.0879, -0.0291,  0.0093, -0.0212,  0.0117,  0.1004,  0.0024,  0.0259]],\n",
      "       grad_fn=<AddmmBackward0>)\n",
      "tensor([[-0.0232, -0.1021,  0.0763,  0.0557, -0.0560, -0.2099,  0.0276,  0.0330,\n",
      "          0.0022,  0.1196, -0.3998, -0.2897,  0.1239, -0.1150,  0.0623, -0.0148]],\n",
      "       grad_fn=<AddmmBackward0>)\n",
      "tensor([[-0.0842, -0.0350, -0.0888, -0.0245,  0.0406, -0.1188,  0.1425, -0.0345,\n",
      "         -0.0580, -0.0416, -0.0881, -0.0772,  0.1056,  0.1371,  0.0961,  0.0048]],\n",
      "       grad_fn=<AddmmBackward0>)\n",
      "Complete\n"
     ]
    }
   ],
   "source": [
    "win_list=[]\n",
    "for i_episode in range(2):\n",
    "    # Initialize the environment and get it's state\n",
    "    state = env.reset()\n",
    "    state = torch.tensor(state, dtype=torch.float32, device=device).unsqueeze(0)\n",
    "    #print('init state',state)\n",
    "    for t in count():\n",
    "        if env.player=='agent':\n",
    "            q_values = policy_net(state)\n",
    "            print(q_values)\n",
    "            if np.random.uniform(0,1)> epsilon:\n",
    "                action = torch.argmax(q_values).item()\n",
    "                next_state, reward, done = env.play(action)\n",
    "            else:\n",
    "                #print('random move!')\n",
    "                next_state, reward, done, action = env.random_play()\n",
    "            reward = torch.tensor([reward], device=device)\n",
    "            next_state = torch.tensor(next_state, dtype=torch.float32, device=device).unsqueeze(0)\n",
    "\n",
    "            # Store the transition in memory\n",
    "            memory.push(state, action, next_state, reward)\n",
    "            #print(state, action, next_state, reward)\n",
    "            # Move to the next state\n",
    "            state = next_state\n",
    "            optimize_model()\n",
    "            target_net_state_dict = target_net.state_dict()\n",
    "            policy_net_state_dict = policy_net.state_dict()\n",
    "            for key in policy_net_state_dict:\n",
    "                target_net_state_dict[key] = policy_net_state_dict[key]*TAU + target_net_state_dict[key]*(1-TAU)\n",
    "            target_net.load_state_dict(target_net_state_dict)\n",
    "            env.change_player()\n",
    "        else:\n",
    "            next_state,_,done, action = env.random_play()\n",
    "            #print('dummy next state', next_state)\n",
    "            state=torch.tensor(next_state, dtype=torch.float32, device=device).unsqueeze(0)\n",
    "            env.change_player()\n",
    "        if done:\n",
    "            #print('winner is:', env.winner)\n",
    "            win_list.append(env.winner)\n",
    "            break\n",
    "\n",
    "print('Complete')"
   ]
  },
  {
   "cell_type": "code",
   "execution_count": 472,
   "id": "23395aac",
   "metadata": {},
   "outputs": [
    {
     "data": {
      "text/plain": [
       "(0, 2)"
      ]
     },
     "execution_count": 472,
     "metadata": {},
     "output_type": "execute_result"
    }
   ],
   "source": [
    "win_list.count('agent'), win_list.count('dummy')"
   ]
  },
  {
   "cell_type": "markdown",
   "id": "ded52c0f",
   "metadata": {},
   "source": [
    "# DET HERUNDER ER LIGEMEGET"
   ]
  },
  {
   "cell_type": "code",
   "execution_count": 310,
   "id": "c7bcc26f",
   "metadata": {},
   "outputs": [],
   "source": [
    "win_list=[]\n",
    "num_episodes=1000\n",
    "steps_done=0\n",
    "EPS_START = 0.9\n",
    "EPS_END = 0.05\n",
    "EPS_DECAY = 100\n",
    "discount_factor=0.1\n",
    "\n",
    "for episode in range(num_episodes):\n",
    "    win_list.append(env.winner)\n",
    "    state = env.reset()\n",
    "    done = False\n",
    "    epsilon = EPS_END + (EPS_START - EPS_END) * \\\n",
    "        math.exp(-1. * steps_done / EPS_DECAY)\n",
    "    steps_done += 1\n",
    "    while not done:\n",
    "        if env.player=='agent':\n",
    "            q_values = q_network(torch.tensor(state).float())\n",
    "            action = torch.argmax(q_values).item()\n",
    "            if np.random.uniform(0,1)<= epsilon:\n",
    "                next_state, reward, done = env.play(action)\n",
    "            else:\n",
    "                next_state, reward, done = env.random_play()\n",
    "            next_q_values = q_network(torch.tensor(next_state).float())\n",
    "            target = reward + discount_factor * torch.max(next_q_values)\n",
    "            loss = nn.MSELoss()(q_values[action], target.detach())\n",
    "            optimizer.zero_grad()\n",
    "            loss.backward()\n",
    "            optimizer.step()\n",
    "            state = next_state\n",
    "            env.change_player()\n",
    "        else:\n",
    "            state, no_use, done=env.random_play()\n",
    "            env.change_player()\n",
    "    "
   ]
  },
  {
   "cell_type": "code",
   "execution_count": 311,
   "id": "94732f4d",
   "metadata": {},
   "outputs": [
    {
     "data": {
      "text/plain": [
       "(456, 544)"
      ]
     },
     "execution_count": 311,
     "metadata": {},
     "output_type": "execute_result"
    }
   ],
   "source": [
    "win_list.count('agent'), win_list.count('dummy')"
   ]
  },
  {
   "cell_type": "code",
   "execution_count": null,
   "id": "dd2d3c70",
   "metadata": {},
   "outputs": [],
   "source": []
  },
  {
   "cell_type": "markdown",
   "id": "e75b0551",
   "metadata": {},
   "source": [
    "https://andrewrowell.blog/2020/05/19/q-learning-nim-with-python/\n",
    "https://pytorch.org/tutorials/intermediate/reinforcement_q_learning.html#dqn-algorithm\n",
    "https://akrishna77.github.io/QSettlers/\n",
    "https://mahowald.github.io/pytorch-dqn/"
   ]
  }
 ],
 "metadata": {
  "kernelspec": {
   "display_name": "Python 3 (ipykernel)",
   "language": "python",
   "name": "python3"
  },
  "language_info": {
   "codemirror_mode": {
    "name": "ipython",
    "version": 3
   },
   "file_extension": ".py",
   "mimetype": "text/x-python",
   "name": "python",
   "nbconvert_exporter": "python",
   "pygments_lexer": "ipython3",
   "version": "3.9.1"
  }
 },
 "nbformat": 4,
 "nbformat_minor": 5
}
