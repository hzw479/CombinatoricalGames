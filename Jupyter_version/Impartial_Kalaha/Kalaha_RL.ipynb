{
 "cells": [
  {
   "cell_type": "code",
   "execution_count": 42,
   "id": "023d15eb",
   "metadata": {},
   "outputs": [],
   "source": [
    "import numpy as np\n",
    "import random\n",
    "import pickle\n",
    "import time"
   ]
  },
  {
   "cell_type": "code",
   "execution_count": 43,
   "id": "f7ae97e5",
   "metadata": {},
   "outputs": [],
   "source": [
    "learning_rate=0.1 #alpha\n",
    "decay_gamma=0.7 #gamma\n",
    "exp_rate=0.3 #epsilon\n",
    "starting_player='agent'\n",
    "list_of_winners=[]\n",
    "policy={}\n",
    "number_of_pits=2\n",
    "number_of_stones=2"
   ]
  },
  {
   "cell_type": "code",
   "execution_count": 134,
   "id": "c50c9fbd",
   "metadata": {
    "code_folding": [
     14,
     18,
     36,
     55,
     82,
     106,
     113,
     169
    ]
   },
   "outputs": [],
   "source": [
    "class impartial_kalaha:\n",
    "    def __init__(self, pits, pebbles):\n",
    "        self.starting_player=starting_player\n",
    "        self.player=starting_player\n",
    "        self.pits=pits\n",
    "        self.pebbles=pebbles\n",
    "        self.board=[pebbles]*pits+[0]\n",
    "        self.number_of_pits=len(self.board)\n",
    "        self.lr=learning_rate\n",
    "        self.gamma=decay_gamma\n",
    "        self.exp_rate=exp_rate\n",
    "        self.Q-table={}\n",
    "        self.game_over=False\n",
    "        self.states=[]\n",
    "    def choose_random_pit(self):\n",
    "        \"\"\"This function chooses a random pit to choose.\n",
    "        Returns an index for a non-empty game pit\"\"\"\n",
    "        return random.choice(list(np.nonzero(self.board[:-1])[0]))\n",
    "    def choose_smart_pit(self):\n",
    "        \"\"\"This function chooses the most optimal non-empty game pit according to the Q-table.\n",
    "        Returns the index for the best choice of non-empty game pit\"\"\"\n",
    "        current_board=self.board.copy()\n",
    "        boards_to_evaluate_in_Q_table=[]\n",
    "        possible_moves=list(np.nonzero(current_board[:-1])[0])\n",
    "        for pit_to_choose in possible_moves:\n",
    "            test_board=current_board.copy()\n",
    "            _, __, test_board = self.test_move(pit_to_choose, test_board)\n",
    "            boards_to_evaluate_in_Q_table.append((pit_to_choose,test_board))\n",
    "        value_max=-999\n",
    "        best_index=None\n",
    "        for next_board in boards_to_evaluate_in_Q_table:\n",
    "            value = 0 if self.Q-table.get(str(next_board[1])) is None else self.Q-table.get(str(next_board[1]))\n",
    "            if value >= value_max:\n",
    "                value_max = value\n",
    "                best_index=next_board[0]\n",
    "        return best_index\n",
    "    def possible_next_states(self, init_board):\n",
    "        \"\"\"This function finds all possible board states achieveable from a given state.\n",
    "        Input is a board for which to find achieveable board states from\n",
    "        Returns a list of board states achieveable from the input board.\"\"\"\n",
    "        list_of_board_states=[]\n",
    "        boards_to_check=[init_board.copy()]\n",
    "        while len(boards_to_check)>0:\n",
    "            current_board=boards_to_check.pop(0)\n",
    "            possible_moves=list(np.nonzero(current_board[:-1])[0])\n",
    "            for pit_to_choose in possible_moves:\n",
    "                test_board=current_board.copy()\n",
    "                turn='ongoing'\n",
    "                game_over=False\n",
    "                turn, game_over, test_board = self.test_move(pit_to_choose, test_board)\n",
    "                if turn=='over' or game_over==True:\n",
    "                    list_of_board_states.append(test_board)\n",
    "                else:\n",
    "                    boards_to_check.append(test_board)\n",
    "        return [list(x) for x in set(tuple(subliste) for subliste in list_of_board_states)]     \n",
    "    def test_move(self, pit_index, test_board):\n",
    "        \"\"\"This function is for testing the outcome of choosing a certain non-empty game pit from a certain game state\n",
    "        Input is the index of the non-empty game pit and the board state to test from.\n",
    "        Returns:\n",
    "            turn: is either ongoing or over, depending on whether the move ends the turn or requires another move\n",
    "            game_over: is true if the move results in all pebbles being in the target pit.\n",
    "            test_board: the board state after the move is done\"\"\"\n",
    "        turn='ongoing'\n",
    "        pit_to_choose=pit_index\n",
    "        game_over=False\n",
    "        while turn=='ongoing' and game_over==False:\n",
    "            pebbles_on_hand=test_board[pit_to_choose]\n",
    "            test_board[pit_to_choose]=0\n",
    "            for i in range(pebbles_on_hand):\n",
    "                pit_to_add_to=(pit_to_choose+1+i)%(len(test_board))\n",
    "                test_board[pit_to_add_to]+=1\n",
    "            if pit_to_add_to==len(test_board)-1: #if last stone is placed in j0\n",
    "                if test_board[-1]==sum(test_board): #if it is the last stone in the game\n",
    "                    game_over=True\n",
    "                    turn='over'\n",
    "                else:\n",
    "                    return turn, game_over, test_board\n",
    "            elif test_board[pit_to_add_to]==1:#if last stone is placed in empty pit\n",
    "                turn='over'\n",
    "            else:\n",
    "                pit_to_choose=pit_to_add_to #last stone is not placed in empty pit, so continue\n",
    "        return turn, game_over, test_board\n",
    "    def perform_move(self, pit_index):\n",
    "        \"\"\"Function to perform a move to the actual game board.\n",
    "        input: pit_index is the index(0-indexed) of the pit in the board which the player\n",
    "                should take the pebbles from\n",
    "        Returns whether or not the turn is over by performing the move.\"\"\"\n",
    "        turn='ongoing'\n",
    "        pit_to_choose=pit_index\n",
    "        while turn=='ongoing' and self.game_over==False:\n",
    "            pebbles_on_hand=self.board[pit_to_choose]\n",
    "            self.board[pit_to_choose]=0\n",
    "            for i in range(pebbles_on_hand):\n",
    "                pit_to_add_to=(pit_to_choose+1+i)%self.number_of_pits\n",
    "                self.board[pit_to_add_to]+=1\n",
    "            if pit_to_add_to==len(self.board)-1: #if last stone is placed in j0\n",
    "                if self.board[-1]==self.pebbles*self.pits: #if it is the last stone in the game\n",
    "                    self.game_over=True\n",
    "                    turn='over'\n",
    "                else:\n",
    "                    return turn\n",
    "            elif self.board[pit_to_add_to]==1:#if last stone is placed in empty pit\n",
    "                turn='over'\n",
    "            else:\n",
    "                pit_to_choose=pit_to_add_to #last stone is not placed in empty pit, so continue\n",
    "        return turn\n",
    "    def change_player(self):\n",
    "        \"\"\"Function for changing current player.\n",
    "        Returns None\"\"\"\n",
    "        if self.player=='agent':\n",
    "            self.player='dummy'\n",
    "        else:\n",
    "            self.player='agent'\n",
    "    def reset(self):\n",
    "        \"\"\"Function for resetting the game.\n",
    "        Returns None\"\"\"\n",
    "        self.game_over=False\n",
    "        winner=None\n",
    "        self.player=starting_player\n",
    "        self.j0=0\n",
    "        self.board=[self.pebbles]*self.pits+[0]\n",
    "        self.states=[]\n",
    "    def feedReward(self, reward):\n",
    "        \"\"\"Function for updating the Q-table.\n",
    "        Input is the reward/penalty to provide board states from a game.\n",
    "        Returns None\"\"\"\n",
    "        for st in reversed(self.states):  # goes through all saved board states of this game\n",
    "            temp=-1000\n",
    "            possible_next_st=self.possible_next_states(st)\n",
    "            for i in possible_next_st:\n",
    "                if self.Q-table.get(str(i)) is not None and self.Q-table.get(str(i))>temp:\n",
    "                    temp=self.Q-table.get(str(i))\n",
    "            if self.Q-table.get(str(st)) is None:\n",
    "                self.Q-table[str(st)] = 0  # initialise a value for the state\n",
    "            self.Q-table[str(st)] += self.lr * (reward -self.gamma*temp- self.Q-table[str(st)])\n",
    "    def training_game(self, rounds=1000):\n",
    "        \"\"\"Function for training the agent.\n",
    "        Returns None\"\"\"\n",
    "        for i in range(rounds):\n",
    "            while not self.game_over:\n",
    "                if self.player=='dummy':\n",
    "                    turn='ongoing'\n",
    "                    while turn=='ongoing':\n",
    "                        move= self.choose_random_pit()\n",
    "                        turn=self.perform_move(move)\n",
    "                else:\n",
    "                    if np.random.uniform(0,1)<= self.exp_rate:\n",
    "                        turn='ongoing'\n",
    "                        while turn=='ongoing':\n",
    "                            move= self.choose_random_pit()\n",
    "                            turn=self.perform_move(move)\n",
    "                            self.states.append(self.board)\n",
    "                    else:\n",
    "                        turn='ongoing'\n",
    "                        while turn=='ongoing':\n",
    "                            move= self.choose_smart_pit()\n",
    "                            turn=self.perform_move(move)\n",
    "                            self.states.append(self.board)\n",
    "                if self.game_over:\n",
    "                    winner=self.player\n",
    "                    list_of_winners.append(winner)\n",
    "                    if winner=='agent':\n",
    "                        self.feedReward(5)\n",
    "                    else:\n",
    "                        self.feedReward(-1)\n",
    "                    self.reset()\n",
    "                    break\n",
    "                else:\n",
    "                    self.change_player()\n",
    "    def testing_game(self, rounds=1000):\n",
    "        \"\"\"Function for testing the agent using the Q-table obtained from training.\n",
    "        Returns None\"\"\"\n",
    "        for i in range(rounds):\n",
    "            while not self.game_over:\n",
    "                if self.player=='dummy':\n",
    "                    turn='ongoing'\n",
    "                    while turn=='ongoing':\n",
    "                        move= self.choose_random_pit()\n",
    "                        turn=self.perform_move(move)\n",
    "                else:\n",
    "                        turn='ongoing'\n",
    "                        while turn=='ongoing':\n",
    "                            move= self.choose_smart_pit()\n",
    "                            turn=self.perform_move(move)\n",
    "                            self.states.append(self.board)\n",
    "                if self.game_over:\n",
    "                    winner=self.player\n",
    "                    list_of_winners.append(winner)\n",
    "                    self.reset()\n",
    "                    break\n",
    "                else:\n",
    "                    self.change_player()"
   ]
  },
  {
   "cell_type": "code",
   "execution_count": 135,
   "id": "d7cfb2e2",
   "metadata": {},
   "outputs": [],
   "source": [
    "hej=impartial_kalaha(2,4)"
   ]
  },
  {
   "cell_type": "code",
   "execution_count": 136,
   "id": "51254fb8",
   "metadata": {},
   "outputs": [],
   "source": [
    "list_of_winners=[]\n",
    "hej.training_game(1000)"
   ]
  },
  {
   "cell_type": "code",
   "execution_count": 137,
   "id": "a068c2be",
   "metadata": {},
   "outputs": [
    {
     "data": {
      "text/plain": [
       "929"
      ]
     },
     "execution_count": 137,
     "metadata": {},
     "output_type": "execute_result"
    }
   ],
   "source": [
    "list_of_winners.count('agent')"
   ]
  },
  {
   "cell_type": "code",
   "execution_count": 138,
   "id": "ef6546e0",
   "metadata": {},
   "outputs": [],
   "source": [
    "list_of_winners=[]\n",
    "hej.testing_game(1000)"
   ]
  },
  {
   "cell_type": "code",
   "execution_count": 139,
   "id": "28d95119",
   "metadata": {},
   "outputs": [
    {
     "data": {
      "text/plain": [
       "1000"
      ]
     },
     "execution_count": 139,
     "metadata": {},
     "output_type": "execute_result"
    }
   ],
   "source": [
    "list_of_winners.count('agent')"
   ]
  },
  {
   "cell_type": "code",
   "execution_count": 40,
   "id": "1cf1d2af",
   "metadata": {},
   "outputs": [],
   "source": []
  },
  {
   "cell_type": "code",
   "execution_count": 18,
   "id": "c5eb4ebe",
   "metadata": {},
   "outputs": [
    {
     "data": {
      "text/plain": [
       "'over'"
      ]
     },
     "execution_count": 18,
     "metadata": {},
     "output_type": "execute_result"
    }
   ],
   "source": [
    "hej.perform_move(1)"
   ]
  },
  {
   "cell_type": "code",
   "execution_count": 105,
   "id": "89e03ad7",
   "metadata": {},
   "outputs": [
    {
     "name": "stdout",
     "output_type": "stream",
     "text": [
      "halløj [0, 2, 4, 1, 1]\n",
      "halløj [0, 0, 5, 2, 1] end\n",
      "halløj [1, 0, 5, 0, 2] end\n"
     ]
    }
   ],
   "source": [
    "hej.perform_move(1)"
   ]
  },
  {
   "cell_type": "code",
   "execution_count": 106,
   "id": "08706af9",
   "metadata": {},
   "outputs": [
    {
     "name": "stdout",
     "output_type": "stream",
     "text": [
      "halløj [1, 0, 5, 0, 2]\n",
      "halløj [0, 1, 5, 0, 2] end\n"
     ]
    }
   ],
   "source": [
    "hej.perform_move(0)"
   ]
  },
  {
   "cell_type": "code",
   "execution_count": 107,
   "id": "2668bd27",
   "metadata": {},
   "outputs": [
    {
     "name": "stdout",
     "output_type": "stream",
     "text": [
      "halløj [0, 1, 5, 0, 2]\n",
      "halløj [0, 0, 6, 0, 2] end\n",
      "halløj [1, 1, 1, 2, 3] end\n",
      "halløj [2, 1, 1, 0, 4] end\n",
      "halløj [0, 2, 2, 0, 4] end\n",
      "halløj [0, 2, 0, 1, 5] end\n",
      "halløj [0, 0, 1, 2, 5] end\n",
      "halløj [1, 0, 1, 0, 6] end\n"
     ]
    }
   ],
   "source": [
    "hej.perform_move(1)"
   ]
  },
  {
   "cell_type": "code",
   "execution_count": 109,
   "id": "3b42a122",
   "metadata": {},
   "outputs": [
    {
     "name": "stdout",
     "output_type": "stream",
     "text": [
      "halløj [0, 1, 1, 0, 6]\n",
      "halløj [0, 0, 2, 0, 6] end\n",
      "halløj [0, 0, 0, 1, 7] end\n",
      "GAME OVER\n",
      "halløj [0, 0, 0, 0, 8] end\n"
     ]
    }
   ],
   "source": [
    "hej.perform_move(1)"
   ]
  }
 ],
 "metadata": {
  "kernelspec": {
   "display_name": "Python 3 (ipykernel)",
   "language": "python",
   "name": "python3"
  },
  "language_info": {
   "codemirror_mode": {
    "name": "ipython",
    "version": 3
   },
   "file_extension": ".py",
   "mimetype": "text/x-python",
   "name": "python",
   "nbconvert_exporter": "python",
   "pygments_lexer": "ipython3",
   "version": "3.9.1"
  }
 },
 "nbformat": 4,
 "nbformat_minor": 5
}
