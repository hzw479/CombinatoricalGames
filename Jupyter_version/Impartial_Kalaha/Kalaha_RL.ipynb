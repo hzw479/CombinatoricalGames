{
 "cells": [
  {
   "cell_type": "code",
   "execution_count": 13,
   "id": "023d15eb",
   "metadata": {},
   "outputs": [],
   "source": [
    "import numpy as np\n",
    "import random\n",
    "import pickle\n",
    "import time"
   ]
  },
  {
   "cell_type": "code",
   "execution_count": 638,
   "id": "f7ae97e5",
   "metadata": {},
   "outputs": [],
   "source": [
    "learning_rate=0.05 #alpha\n",
    "decay_gamma=0.7 #gamma\n",
    "exp_rate=0.3 #epsilon\n",
    "starting_player='dummy'\n",
    "list_of_winners=[]\n",
    "policy={}\n",
    "number_of_pits=4\n",
    "number_of_stones=4"
   ]
  },
  {
   "cell_type": "code",
   "execution_count": 639,
   "id": "c50c9fbd",
   "metadata": {
    "code_folding": [
     14,
     53,
     72,
     102,
     126,
     133,
     142,
     151,
     175,
     209
    ]
   },
   "outputs": [],
   "source": [
    "class Imkalah:\n",
    "    def __init__(self, pits, pebbles):\n",
    "        self.starting_player=starting_player\n",
    "        self.player=starting_player\n",
    "        self.pits=pits\n",
    "        self.pebbles=pebbles\n",
    "        self.board=[pebbles]*pits+[0]\n",
    "        self.number_of_pits=len(self.board)\n",
    "        self.lr=learning_rate\n",
    "        self.gamma=decay_gamma\n",
    "        self.exp_rate=exp_rate\n",
    "        self.Q_table={}\n",
    "        self.game_over=False\n",
    "        self.states=[]\n",
    "    def choose_random_pit(self):\n",
    "        \"\"\"This function chooses a random pit to choose.\n",
    "        Returns an index for a non-empty game pit\"\"\"\n",
    "        return random.choice(list(np.nonzero(self.board[:-1])[0]))\n",
    "    def choose_smart_pit(self):\n",
    "        \"\"\"This function chooses the most optimal non-empty game pit according to the Q_table.\n",
    "        Returns the index for the best choice of non-empty game pit\"\"\"\n",
    "        current_board=self.board.copy()\n",
    "        boards_to_evaluate_in_Q_table=[]\n",
    "        possible_moves_1=list(np.nonzero(current_board[:-1])[0])\n",
    "        boards_to_check=[]\n",
    "        for pit_to_choose in possible_moves_1:\n",
    "            #print('ER DET HER DER ER FEJL', pit_to_choose, possible_moves_1, current_board.copy())\n",
    "            turn, _, test_board=self.test_move(pit_to_choose, current_board.copy())\n",
    "            #print('ER DET HER DER ER FEJL2', pit_to_choose, possible_moves_1, test_board)\n",
    "            if turn=='over':\n",
    "                boards_to_evaluate_in_Q_table.append((pit_to_choose,test_board))\n",
    "            else:\n",
    "                boards_to_check.append(test_board.copy())\n",
    "                while len(boards_to_check)>0:\n",
    "                    current_board_1=boards_to_check.pop(0)\n",
    "                    done=False\n",
    "                    possible_moves=list(np.nonzero(current_board_1[:-1])[0])\n",
    "                    for move in possible_moves:\n",
    "                        #print('ELLER ER DET HER, DER ER FEJL', move, possible_moves, current_board_1.copy())\n",
    "                        turn, _, test_board=self.test_move(move, current_board_1.copy())\n",
    "                        #print('ELLER ER DET HER, DER ER FEJL2', move, possible_moves, test_board)\n",
    "                        if turn=='over':\n",
    "                            boards_to_evaluate_in_Q_table.append((pit_to_choose,test_board))\n",
    "                        else:\n",
    "                            boards_to_check.append(test_board.copy())\n",
    "        value_max=-999\n",
    "        best_index=None\n",
    "        for next_board in boards_to_evaluate_in_Q_table:\n",
    "            value = 0 if self.Q_table.get(str(next_board[1])) is None else self.Q_table.get(str(next_board[1]))\n",
    "            if value >= value_max:\n",
    "                value_max = value\n",
    "                best_index=next_board[0]\n",
    "        return best_index\n",
    "    def possible_next_states(self, init_board):\n",
    "        \"\"\"This function finds all possible board states achieveable from a given state.\n",
    "        Input is a board for which to find achieveable board states from\n",
    "        Returns a list of board states achieveable from the input board.\"\"\"\n",
    "        if init_board[-1]==self.pebbles*self.pits:\n",
    "            return None\n",
    "        list_of_board_states=[]\n",
    "        boards_to_check=[init_board.copy()]\n",
    "        while len(boards_to_check)>0:\n",
    "            current_board=boards_to_check.pop(0)\n",
    "            possible_moves=list(np.nonzero(current_board[:-1])[0])\n",
    "            for pit_to_choose in possible_moves:\n",
    "                test_board=current_board.copy()\n",
    "                turn, game_over, test_board = self.test_move(pit_to_choose, test_board)\n",
    "                if turn=='over' or game_over==True:\n",
    "                    list_of_board_states.append(test_board)\n",
    "                else:\n",
    "                    boards_to_check.append(test_board)\n",
    "        return [list(x) for x in set(tuple(subliste) for subliste in list_of_board_states)]     \n",
    "    def test_move(self, pit_index, test_board):\n",
    "        \"\"\"This function is for testing the outcome of choosing a certain non-empty game pit from a certain game state\n",
    "        Input is the index of the non-empty game pit and the board state to test from.\n",
    "        Returns:\n",
    "            turn: is either ongoing or over, depending on whether the move ends the turn or requires another move\n",
    "            game_over: is true if the move results in all pebbles being in the target pit.\n",
    "            test_board: the board state after the move is done\"\"\"\n",
    "        turn='ongoing'\n",
    "        #print('TESTBOARD', test_board, 'INDEX', pit_index)\n",
    "        pit_to_choose=pit_index\n",
    "        game_over=False\n",
    "        while turn=='ongoing' and game_over==False:\n",
    "            pebbles_on_hand=test_board[pit_to_choose]\n",
    "            #print('PEBBLES ON HAND', pebbles_on_hand)\n",
    "            test_board[pit_to_choose]=0\n",
    "            for i in range(pebbles_on_hand):\n",
    "                pit_to_add_to=(pit_to_choose+1+i)%(len(test_board))\n",
    "                test_board[pit_to_add_to]+=1\n",
    "                #print('board while performing move', test_board)\n",
    "            if pit_to_add_to==len(test_board)-1: #if last stone is placed in j0\n",
    "                if test_board[-1]==sum(test_board): #if it is the last stone in the game\n",
    "                    game_over=True\n",
    "                    turn='over'\n",
    "                else:\n",
    "                    return turn, game_over, test_board\n",
    "            elif test_board[pit_to_add_to]==1:#if last stone is placed in empty pit\n",
    "                turn='over'\n",
    "            else:\n",
    "                pit_to_choose=pit_to_add_to #last stone is not placed in empty pit, so continue\n",
    "        return turn, game_over, test_board\n",
    "    def perform_move(self, pit_index):\n",
    "        \"\"\"Function to perform a move to the actual game board.\n",
    "        input: pit_index is the index(0-indexed) of the pit in the board which the player\n",
    "                should take the pebbles from\n",
    "        Returns whether or not the turn is over by performing the move.\"\"\"\n",
    "        turn='ongoing'\n",
    "        pit_to_choose=pit_index\n",
    "        while turn=='ongoing' and self.game_over==False:\n",
    "            pebbles_on_hand=self.board[pit_to_choose]\n",
    "            self.board[pit_to_choose]=0\n",
    "            for i in range(pebbles_on_hand):\n",
    "                pit_to_add_to=(pit_to_choose+1+i)%self.number_of_pits\n",
    "                self.board[pit_to_add_to]+=1\n",
    "            if pit_to_add_to==len(self.board)-1: #if last stone is placed in j0\n",
    "                if self.board[-1]==self.pebbles*self.pits: #if it is the last stone in the game\n",
    "                    self.game_over=True\n",
    "                    turn='over'\n",
    "                else:\n",
    "                    return turn\n",
    "            elif self.board[pit_to_add_to]==1:#if last stone is placed in empty pit\n",
    "                turn='over'\n",
    "            else:\n",
    "                pit_to_choose=pit_to_add_to #last stone is not placed in empty pit, so continue\n",
    "        return turn\n",
    "    def change_player(self):\n",
    "        \"\"\"Function for changing current player.\n",
    "        Returns None\"\"\"\n",
    "        if self.player=='agent':\n",
    "            self.player='dummy'\n",
    "        else:\n",
    "            self.player='agent'\n",
    "    def reset(self):\n",
    "        \"\"\"Function for resetting the game.\n",
    "        Returns None\"\"\"\n",
    "        self.game_over=False\n",
    "        winner=None\n",
    "        self.player=starting_player\n",
    "        self.j0=0\n",
    "        self.board=[self.pebbles]*self.pits+[0]\n",
    "        self.states=[]\n",
    "    def feedReward_(self, reward):\n",
    "        \"\"\"\n",
    "        THIS REWARD FUNCTION DOES NOT CONSIDER POSSIBLE NEXT STATES\n",
    "        \"\"\"\n",
    "        for st in reversed(self.states):  # goes through all saved board states of this game\n",
    "            if self.Q_table.get(str(st)) is None:  # if it's not already in the dictionary (of board states of ALL games)\n",
    "                self.Q_table[str(st)] = 0  # initialise a value for the state\n",
    "            self.Q_table[str(st)] += self.lr * (\n",
    "                        self.gamma * reward - self.Q_table[str(st)])  # update weight for each board state\n",
    "    def feedReward(self, reward):\n",
    "        \"\"\"Function for updating the Q_table.\n",
    "        Input is the reward/penalty to provide board states from a game.\n",
    "        Returns None\"\"\"\n",
    "        #print('reversed_self.states', self.states)\n",
    "        for st in reversed(self.states):  # goes through all saved board states of this game\n",
    "            #print('STATE', st)\n",
    "            temp=-1000\n",
    "            possible_next_st=self.possible_next_states(st)\n",
    "            #print(st, possible_next_st, 'hej')\n",
    "            if possible_next_st is not None:\n",
    "                for i in possible_next_st:\n",
    "                    #if self.Q_table.get(str(i)) is not None:\n",
    "                        #print(i, self.Q_table.get(str(i)), 'halløj')\n",
    "                    if self.Q_table.get(str(i)) is not None and self.Q_table.get(str(i))>temp:\n",
    "                        temp=self.Q_table.get(str(i))\n",
    "                if self.Q_table.get(str(st)) is None:\n",
    "                    self.Q_table[str(st)] = 0  # initialise a value for the state\n",
    "                self.Q_table[str(st)] += self.lr * (reward -self.gamma*temp- self.Q_table[str(st)])\n",
    "            else:\n",
    "                if self.Q_table.get(str(st)) is None:  # if it's not already in the dictionary (of board states of ALL games)\n",
    "                    self.Q_table[str(st)] = 0  # initialise a value for the state\n",
    "                self.Q_table[str(st)] += self.lr * (\n",
    "                        self.gamma * reward - self.Q_table[str(st)])  # update weight for each board state\n",
    "    def training_game(self, rounds=1000):\n",
    "        \"\"\"Function for training the agent.\n",
    "        Returns None\"\"\"\n",
    "        for i in range(rounds):\n",
    "            while not self.game_over:\n",
    "                if self.player=='dummy':\n",
    "                    turn='ongoing'\n",
    "                    while turn=='ongoing':\n",
    "                        move= self.choose_random_pit()\n",
    "                        turn=self.perform_move(move)\n",
    "                else:\n",
    "                    if np.random.uniform(0,1)<= self.exp_rate:\n",
    "                        turn='ongoing'\n",
    "                        while turn=='ongoing':\n",
    "                            move= self.choose_random_pit()\n",
    "                            turn=self.perform_move(move)\n",
    "                            self.states.append(self.board.copy())\n",
    "                    else:\n",
    "                        turn='ongoing'\n",
    "                        while turn=='ongoing':\n",
    "                            move= self.choose_smart_pit()\n",
    "                            turn=self.perform_move(move)\n",
    "                            self.states.append(self.board.copy())\n",
    "                if self.game_over:\n",
    "                    winner=self.player\n",
    "                    list_of_winners.append(winner)\n",
    "                    if winner=='agent':\n",
    "                        self.feedReward(5)\n",
    "                    else:\n",
    "                        self.feedReward(-1)\n",
    "                    self.reset()\n",
    "                    break\n",
    "                else:\n",
    "                    self.change_player()\n",
    "    def testing_game(self, rounds=1000):\n",
    "        \"\"\"Function for testing the agent using the Q_table obtained from training.\n",
    "        Returns None\"\"\"\n",
    "        for i in range(rounds):\n",
    "            while not self.game_over:\n",
    "                if self.player=='dummy':\n",
    "                    turn='ongoing'\n",
    "                    while turn=='ongoing':\n",
    "                        move= self.choose_random_pit()\n",
    "                        turn=self.perform_move(move)\n",
    "                else:\n",
    "                        turn='ongoing'\n",
    "                        while turn=='ongoing':\n",
    "                            move= self.choose_smart_pit()\n",
    "                            turn=self.perform_move(move)\n",
    "                            self.states.append(self.board)\n",
    "                if self.game_over:\n",
    "                    winner=self.player\n",
    "                    list_of_winners.append(winner)\n",
    "                    self.reset()\n",
    "                    break\n",
    "                else:\n",
    "                    self.change_player()"
   ]
  },
  {
   "cell_type": "code",
   "execution_count": 640,
   "id": "d7cfb2e2",
   "metadata": {},
   "outputs": [],
   "source": [
    "play=Imkalah(number_of_pits,number_of_stones)"
   ]
  },
  {
   "cell_type": "code",
   "execution_count": 641,
   "id": "1cf1d2af",
   "metadata": {
    "scrolled": true
   },
   "outputs": [
    {
     "name": "stdout",
     "output_type": "stream",
     "text": [
      "agent wins 99.5 percent of the test games 312\n",
      "agent wins 99.9 percent of the test games 343\n",
      "agent wins 99.7 percent of the test games 354\n",
      "agent wins 99.6 percent of the test games 369\n",
      "agent wins 99.7 percent of the test games 375\n",
      "agent wins 99.9 percent of the test games 377\n",
      "agent wins 100.0 percent of the test games 378\n",
      "it took 18.458 seconds to finish\n"
     ]
    }
   ],
   "source": [
    "rounds=1000\n",
    "list_of_winners=[]\n",
    "start_time=time.time()\n",
    "while list_of_winners.count('agent')*100/rounds <100:\n",
    "    list_of_winners = []\n",
    "    play.training_game(rounds)\n",
    "    #print('agent wins', list_of_winners.count('agent')*100/rounds, 'percent of the training games')\n",
    "    list_of_winners=[]\n",
    "    play.testing_game(rounds)\n",
    "    print('agent wins', list_of_winners.count('agent')*100/rounds, 'percent of the test games', len(play.Q_table))\n",
    "end_time=time.time()\n",
    "print('it took', round(end_time-start_time,3), 'seconds to finish')"
   ]
  },
  {
   "cell_type": "code",
   "execution_count": 642,
   "id": "c5eb4ebe",
   "metadata": {},
   "outputs": [
    {
     "name": "stdout",
     "output_type": "stream",
     "text": [
      "agent wins 100.0 percent of the test games 378\n"
     ]
    }
   ],
   "source": [
    "list_of_winners=[]\n",
    "play.testing_game(5000)\n",
    "print('agent wins', list_of_winners.count('agent')*100/5000, 'percent of the test games', len(play.Q_table))"
   ]
  },
  {
   "cell_type": "code",
   "execution_count": 682,
   "id": "ad314a5c",
   "metadata": {},
   "outputs": [],
   "source": [
    "play.board=[4,4,4,4,0]"
   ]
  },
  {
   "cell_type": "code",
   "execution_count": 683,
   "id": "4e61f037",
   "metadata": {},
   "outputs": [
    {
     "data": {
      "text/plain": [
       "[[1, 1, 6, 6, 2],\n",
       " [1, 6, 1, 6, 2],\n",
       " [6, 1, 1, 6, 2],\n",
       " [1, 6, 6, 1, 2],\n",
       " [6, 6, 1, 1, 2]]"
      ]
     },
     "execution_count": 683,
     "metadata": {},
     "output_type": "execute_result"
    }
   ],
   "source": [
    "boards_to_check=play.possible_next_states(play.board)\n",
    "boards_to_check"
   ]
  },
  {
   "cell_type": "code",
   "execution_count": 684,
   "id": "b77bebae",
   "metadata": {},
   "outputs": [
    {
     "name": "stdout",
     "output_type": "stream",
     "text": [
      "START [1, 1, 6, 6, 2]\n",
      "3\n",
      "[2, 2, 7, 1, 4]\n",
      "2\n",
      "[3, 3, 1, 3, 6]\n",
      "1\n",
      "[3, 0, 2, 4, 7]\n",
      "2\n",
      "[3, 0, 0, 5, 8]\n",
      "0\n",
      "[1, 2, 2, 1, 10]\n",
      "3\n",
      "[1, 2, 2, 0, 11]\n",
      "2\n",
      "[1, 2, 0, 1, 12]\n",
      "1\n",
      "[0, 1, 0, 1, 14]\n",
      "3\n",
      "[0, 1, 0, 0, 15]\n",
      "1\n",
      "[0, 0, 1, 0, 15]\n",
      "[0, 0, 1, 0, 15]\n",
      "START [1, 6, 1, 6, 2]\n",
      "0\n",
      "[3, 0, 5, 2, 6]\n",
      "3\n",
      "[0, 1, 6, 1, 8]\n",
      "3\n",
      "[0, 1, 6, 0, 9]\n",
      "2\n",
      "[0, 3, 0, 1, 12]\n",
      "3\n",
      "[0, 3, 0, 0, 13]\n",
      "1\n",
      "[0, 0, 1, 1, 14]\n",
      "2\n",
      "[1, 0, 0, 0, 15]\n",
      "[1, 0, 0, 0, 15]\n",
      "START [6, 1, 1, 6, 2]\n",
      "3\n",
      "[7, 2, 2, 1, 4]\n",
      "2\n",
      "[7, 2, 0, 2, 5]\n",
      "0\n",
      "[1, 4, 0, 4, 7]\n",
      "1\n",
      "[0, 1, 0, 6, 9]\n",
      "3\n",
      "[1, 2, 1, 1, 11]\n",
      "3\n",
      "[1, 2, 1, 0, 12]\n",
      "0\n",
      "[0, 0, 2, 1, 13]\n",
      "2\n",
      "[0, 0, 0, 2, 14]\n",
      "3\n",
      "[1, 0, 0, 0, 15]\n",
      "[1, 0, 0, 0, 15]\n",
      "START [1, 6, 6, 1, 2]\n",
      "3\n",
      "[1, 6, 6, 0, 3]\n",
      "1\n",
      "[0, 3, 2, 4, 7]\n",
      "2\n",
      "[0, 3, 0, 5, 8]\n",
      "1\n",
      "[0, 0, 1, 6, 9]\n",
      "3\n",
      "[1, 1, 2, 1, 11]\n",
      "0\n",
      "[1, 0, 3, 0, 12]\n",
      "[1, 0, 3, 0, 12]\n",
      "START [6, 6, 1, 1, 2]\n",
      "2\n",
      "[1, 8, 0, 2, 5]\n",
      "1\n",
      "[2, 1, 2, 4, 7]\n",
      "1\n",
      "[1, 2, 2, 1, 10]\n",
      "3\n",
      "[1, 2, 2, 0, 11]\n",
      "2\n",
      "[1, 2, 0, 1, 12]\n",
      "1\n",
      "[0, 1, 0, 1, 14]\n",
      "3\n",
      "[0, 1, 0, 0, 15]\n",
      "1\n",
      "[0, 0, 1, 0, 15]\n",
      "[0, 0, 1, 0, 15]\n"
     ]
    }
   ],
   "source": [
    "for i in boards_to_check:\n",
    "    print('START', i)\n",
    "    play.board=i\n",
    "    move=play.choose_smart_pit()\n",
    "    print(move)\n",
    "    turn=play.perform_move(move)\n",
    "    board=play.board\n",
    "    print(board)\n",
    "    while turn=='ongoing':\n",
    "        move=play.choose_smart_pit()\n",
    "        print(move)\n",
    "        turn=play.perform_move(move)\n",
    "        board=play.board\n",
    "        print(board)\n",
    "    print(board)"
   ]
  },
  {
   "cell_type": "code",
   "execution_count": 673,
   "id": "ce533f0d",
   "metadata": {},
   "outputs": [
    {
     "data": {
      "text/plain": [
       "1"
      ]
     },
     "execution_count": 673,
     "metadata": {},
     "output_type": "execute_result"
    }
   ],
   "source": [
    "move=play.choose_smart_pit()\n",
    "move"
   ]
  },
  {
   "cell_type": "code",
   "execution_count": 674,
   "id": "171cf16a",
   "metadata": {},
   "outputs": [
    {
     "name": "stdout",
     "output_type": "stream",
     "text": [
      "[0, 1, 0, 0, 15]\n",
      "over\n",
      "[0, 0, 1, 0, 15]\n"
     ]
    }
   ],
   "source": [
    "print(play.board)\n",
    "print(play.perform_move(move))\n",
    "print(play.board)\n"
   ]
  },
  {
   "cell_type": "code",
   "execution_count": null,
   "id": "42c40b20",
   "metadata": {},
   "outputs": [],
   "source": []
  },
  {
   "cell_type": "code",
   "execution_count": 602,
   "id": "99a8e7ac",
   "metadata": {},
   "outputs": [
    {
     "data": {
      "text/plain": [
       "[1, 0, 0, 8]"
      ]
     },
     "execution_count": 602,
     "metadata": {},
     "output_type": "execute_result"
    }
   ],
   "source": [
    "play.board"
   ]
  },
  {
   "cell_type": "code",
   "execution_count": 540,
   "id": "73712a48",
   "metadata": {},
   "outputs": [
    {
     "name": "stdout",
     "output_type": "stream",
     "text": [
      "0\n",
      "[1, 0, 3]\n"
     ]
    }
   ],
   "source": [
    "print(play.choose_smart_pit())\n",
    "play.perform_move(play.choose_smart_pit())\n",
    "print(play.board)"
   ]
  },
  {
   "cell_type": "code",
   "execution_count": null,
   "id": "36dc2f2e",
   "metadata": {},
   "outputs": [],
   "source": []
  },
  {
   "cell_type": "code",
   "execution_count": 591,
   "id": "7d3629d6",
   "metadata": {
    "scrolled": true
   },
   "outputs": [
    {
     "name": "stdout",
     "output_type": "stream",
     "text": [
      "[0, 1, 0, 8] 5.057\n",
      "[0, 0, 0, 9] 3.5\n",
      "[1, 3, 0, 5] 3.411\n",
      "[0, 1, 2, 6] 3.222\n",
      "[0, 0, 6, 3] 3.105\n",
      "[0, 3, 1, 5] 2.888\n",
      "[0, 2, 0, 7] 2.55\n",
      "[0, 1, 1, 7] 2.527\n",
      "[2, 0, 0, 7] 2.474\n",
      "[1, 5, 0, 3] 2.352\n",
      "[0, 2, 1, 6] 2.327\n",
      "[2, 2, 0, 5] 2.267\n",
      "[1, 1, 3, 4] 1.85\n",
      "[0, 0, 3, 6] 1.778\n",
      "[0, 2, 2, 5] 1.679\n",
      "[2, 0, 2, 5] 1.544\n",
      "[2, 2, 1, 4] 1.543\n",
      "[1, 0, 1, 7] 1.499\n",
      "[5, 1, 0, 3] 1.481\n",
      "[2, 0, 1, 6] 1.464\n",
      "[1, 0, 0, 8] 1.425\n",
      "[0, 0, 4, 5] 0.952\n",
      "[5, 0, 1, 3] 0.917\n",
      "[2, 1, 0, 6] 0.784\n",
      "[1, 1, 2, 5] 0.316\n",
      "[2, 1, 1, 5] 0.223\n",
      "[0, 0, 1, 8] -0.018\n",
      "[1, 1, 1, 6] -0.313\n",
      "[1, 1, 0, 7] -0.441\n",
      "[1, 2, 1, 5] -0.725\n",
      "[1, 2, 0, 6] -1.448\n",
      "[0, 0, 2, 7] -2.444\n",
      "[3, 0, 1, 5] -3.092\n",
      "[3, 0, 0, 6] -5.865\n"
     ]
    }
   ],
   "source": [
    "import ast\n",
    "\n",
    "my_dict=play.Q_table\n",
    "sorted_dict = sorted(my_dict.items(), key=lambda x: x[1], reverse=True)\n",
    "top_keys = [x[0] for x in sorted_dict]\n",
    "\n",
    "best_boards=top_keys\n",
    "for i in best_boards:\n",
    "    print( i,round(my_dict[str(i)],3))"
   ]
  },
  {
   "cell_type": "code",
   "execution_count": 210,
   "id": "c5b2928f",
   "metadata": {},
   "outputs": [
    {
     "data": {
      "text/plain": [
       "[[1, 2, 1, 5], [0, 1, 1, 7], [0, 3, 1, 5], [5, 0, 1, 3], [0, 1, 0, 8]]"
      ]
     },
     "execution_count": 210,
     "metadata": {},
     "output_type": "execute_result"
    }
   ],
   "source": [
    "play.possible_next_states([5, 1, 1, 2])"
   ]
  },
  {
   "cell_type": "code",
   "execution_count": 211,
   "id": "958e69b6",
   "metadata": {},
   "outputs": [
    {
     "ename": "KeyError",
     "evalue": "'[0, 1, 0, 8]'",
     "output_type": "error",
     "traceback": [
      "\u001b[0;31m---------------------------------------------------------------------------\u001b[0m",
      "\u001b[0;31mKeyError\u001b[0m                                  Traceback (most recent call last)",
      "\u001b[0;32m/var/folders/f7/616lwfzj0pbbbb39xctk67l00000gn/T/ipykernel_93534/157265339.py\u001b[0m in \u001b[0;36m<module>\u001b[0;34m\u001b[0m\n\u001b[0;32m----> 1\u001b[0;31m \u001b[0mprint\u001b[0m\u001b[0;34m(\u001b[0m\u001b[0mplay\u001b[0m\u001b[0;34m.\u001b[0m\u001b[0mQ_table\u001b[0m\u001b[0;34m[\u001b[0m\u001b[0;34m'[0, 1, 0, 8]'\u001b[0m\u001b[0;34m]\u001b[0m\u001b[0;34m)\u001b[0m\u001b[0;34m\u001b[0m\u001b[0;34m\u001b[0m\u001b[0m\n\u001b[0m",
      "\u001b[0;31mKeyError\u001b[0m: '[0, 1, 0, 8]'"
     ]
    }
   ],
   "source": [
    "print(play.Q_table['[0, 1, 0, 8]'])"
   ]
  }
 ],
 "metadata": {
  "kernelspec": {
   "display_name": "Python 3 (ipykernel)",
   "language": "python",
   "name": "python3"
  },
  "language_info": {
   "codemirror_mode": {
    "name": "ipython",
    "version": 3
   },
   "file_extension": ".py",
   "mimetype": "text/x-python",
   "name": "python",
   "nbconvert_exporter": "python",
   "pygments_lexer": "ipython3",
   "version": "3.9.1"
  }
 },
 "nbformat": 4,
 "nbformat_minor": 5
}
