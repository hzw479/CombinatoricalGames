{
 "cells": [
  {
   "cell_type": "markdown",
   "id": "ca36f3cd",
   "metadata": {},
   "source": [
    "# FROM CHATGPT"
   ]
  },
  {
   "cell_type": "code",
   "execution_count": 6,
   "id": "2ae05d79",
   "metadata": {},
   "outputs": [],
   "source": [
    "import torch\n",
    "import torch.nn as nn\n",
    "import torch.optim as optim"
   ]
  },
  {
   "cell_type": "code",
   "execution_count": 7,
   "id": "e6c92427",
   "metadata": {},
   "outputs": [],
   "source": [
    "class QNetwork(nn.Module):\n",
    "    def __init__(self, input_dim, output_dim):\n",
    "        super(QNetwork, self).__init__()\n",
    "        self.fc1 = nn.Linear(input_dim, 128)\n",
    "        self.fc2 = nn.Linear(128, 64)\n",
    "        self.fc3 = nn.Linear(64, output_dim)\n",
    "        \n",
    "    def forward(self, x):\n",
    "        x = nn.functional.relu(self.fc1(x))\n",
    "        x = nn.functional.relu(self.fc2(x))\n",
    "        x = self.fc3(x)\n",
    "        return x\n",
    "        \n",
    "class QLearning:\n",
    "    def __init__(self, input_dim, output_dim, lr, gamma):\n",
    "        self.q_net = QNetwork(input_dim, output_dim)\n",
    "        self.optimizer = optim.Adam(self.q_net.parameters(), lr=lr)\n",
    "        self.loss_fn = nn.MSELoss()\n",
    "        self.gamma = gamma\n",
    "        self.states = []\n",
    "        self.actions = []\n",
    "        self.rewards = []\n",
    "        \n",
    "    def select_action(self, state):\n",
    "        state = torch.tensor(state, dtype=torch.float32)\n",
    "        q_values = self.q_net(state)\n",
    "        action = torch.argmax(q_values).item()\n",
    "        return action\n",
    "        \n",
    "    def update(self):\n",
    "        self.optimizer.zero_grad()\n",
    "        states = torch.tensor(self.states, dtype=torch.float32)\n",
    "        actions = torch.tensor(self.actions, dtype=torch.int64)\n",
    "        rewards = torch.tensor(self.rewards, dtype=torch.float32)\n",
    "        \n",
    "        q_values = self.q_net(states)\n",
    "        action_values = q_values.gather(1, actions.view(-1, 1)).squeeze()\n",
    "        next_q_values = torch.zeros_like(rewards)\n",
    "        next_q_values[-1] = self.q_net(torch.tensor(self.states[-1], dtype=torch.float32)).max().item()\n",
    "        \n",
    "        for i in reversed(range(len(self.rewards) - 1)):\n",
    "            next_q_values[i] = self.gamma * next_q_values[i+1] + self.rewards[i]\n",
    "        \n",
    "        expected_q_values = rewards + self.gamma * next_q_values\n",
    "        loss = self.loss_fn(action_values, expected_q_values.detach())\n",
    "        loss.backward()\n",
    "        self.optimizer.step()\n",
    "        \n",
    "        self.states = []\n",
    "        self.actions = []\n",
    "        self.rewards = []"
   ]
  },
  {
   "cell_type": "code",
   "execution_count": 11,
   "id": "96860038",
   "metadata": {},
   "outputs": [],
   "source": [
    "hej=QLearning(1,1, 0.01, 0.9)"
   ]
  },
  {
   "cell_type": "code",
   "execution_count": null,
   "id": "795047cc",
   "metadata": {},
   "outputs": [],
   "source": []
  }
 ],
 "metadata": {
  "kernelspec": {
   "display_name": "Python 3 (ipykernel)",
   "language": "python",
   "name": "python3"
  },
  "language_info": {
   "codemirror_mode": {
    "name": "ipython",
    "version": 3
   },
   "file_extension": ".py",
   "mimetype": "text/x-python",
   "name": "python",
   "nbconvert_exporter": "python",
   "pygments_lexer": "ipython3",
   "version": "3.9.1"
  }
 },
 "nbformat": 4,
 "nbformat_minor": 5
}
