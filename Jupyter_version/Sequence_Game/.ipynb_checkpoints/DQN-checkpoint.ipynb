{
 "cells": [
  {
   "cell_type": "markdown",
   "id": "29e61051",
   "metadata": {},
   "source": [
    "# FROM CHATGPT"
   ]
  },
  {
   "cell_type": "code",
   "execution_count": null,
   "id": "abe116f5",
   "metadata": {},
   "outputs": [],
   "source": [
    "import random\n",
    "import numpy as np\n",
    "import tensorflow as tf\n",
    "\n",
    "class DQNAgent:\n",
    "    def __init__(self, state_size, action_size, gamma=0.95, learning_rate=0.001, batch_size=32, replay_memory_size=10000):\n",
    "        self.state_size = state_size\n",
    "        self.action_size = action_size\n",
    "        self.gamma = gamma\n",
    "        self.learning_rate = learning_rate\n",
    "        self.batch_size = batch_size\n",
    "        self.replay_memory_size = replay_memory_size\n",
    "        self.replay_memory = []\n",
    "        self.model = self.build_model()\n",
    "        self.target_model = self.build_model()\n",
    "        self.update_target_model()\n",
    "\n",
    "    def build_model(self):\n",
    "        model = tf.keras.models.Sequential()\n",
    "        model.add(tf.keras.layers.Dense(32, activation='relu', input_dim=self.state_size))\n",
    "        model.add(tf.keras.layers.Dense(32, activation='relu'))\n",
    "        model.add(tf.keras.layers.Dense(self.action_size, activation='linear'))\n",
    "        model.compile(loss='mse', optimizer=tf.keras.optimizers.Adam(lr=self.learning_rate))\n",
    "        return model\n",
    "\n",
    "    def update_target_model(self):\n",
    "        self.target_model.set_weights(self.model.get_weights())\n",
    "\n",
    "    def remember(self, state, action, reward, next_state, done):\n",
    "        self.replay_memory.append((state, action, reward, next_state, done))\n",
    "        if len(self.replay_memory) > self.replay_memory_size:\n",
    "            self.replay_memory.pop(0)\n",
    "\n",
    "    def act(self, state, epsilon):\n",
    "        if np.random.rand() <= epsilon:\n",
    "            return random.randrange(self.action_size)\n",
    "        q_values = self.model.predict(state)\n",
    "        return np.argmax(q_values[0])\n",
    "\n",
    "    def learn(self):\n",
    "        if len(self.replay_memory) < self.batch_size:\n",
    "            return\n",
    "        batch = random.sample(self.replay_memory, self.batch_size)\n",
    "        states = np.array([transition[0] for transition in batch])\n",
    "        actions = np.array([transition[1] for transition in batch])\n",
    "        rewards = np.array([transition[2] for transition in batch])\n",
    "        next_states = np.array([transition[3] for transition in batch])\n",
    "        dones = np.array([transition[4] for transition in batch])\n",
    "        q_values = self.model.predict(states)\n",
    "        target_q_values = self.target_model.predict(next_states)\n",
    "        max_target_q_values = np.max(target_q_values, axis=1)\n",
    "        target_q_values[dones] = 0\n",
    "        targets = rewards + self.gamma * max_target_q_values\n",
    "        indices = np.arange(self.batch_size)\n",
    "        q_values[indices, actions] = targets\n",
    "        self.model.fit(states, q_values, batch_size=self.batch_size, verbose=0)"
   ]
  },
  {
   "cell_type": "code",
   "execution_count": null,
   "id": "f3546a64",
   "metadata": {},
   "outputs": [],
   "source": []
  },
  {
   "cell_type": "code",
   "execution_count": null,
   "id": "cb4e1654",
   "metadata": {},
   "outputs": [],
   "source": []
  }
 ],
 "metadata": {
  "kernelspec": {
   "display_name": "Python 3 (ipykernel)",
   "language": "python",
   "name": "python3"
  },
  "language_info": {
   "codemirror_mode": {
    "name": "ipython",
    "version": 3
   },
   "file_extension": ".py",
   "mimetype": "text/x-python",
   "name": "python",
   "nbconvert_exporter": "python",
   "pygments_lexer": "ipython3",
   "version": "3.9.1"
  }
 },
 "nbformat": 4,
 "nbformat_minor": 5
}
